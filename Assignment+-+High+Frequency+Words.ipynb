{
 "cells": [
  {
   "cell_type": "markdown",
   "metadata": {},
   "source": [
    "## DATA 620: Assignment - High Frequency Words\n",
    "\n",
    "### Authors: Brian Weinfield, Alex Low, Jagruti Solao, Niteen Kumar\n",
    "\n",
    "#### Date: 7/2/18"
   ]
  },
  {
   "cell_type": "code",
   "execution_count": 132,
   "metadata": {
    "collapsed": true
   },
   "outputs": [],
   "source": [
    "import nltk"
   ]
  },
  {
   "cell_type": "code",
   "execution_count": 133,
   "metadata": {
    "collapsed": true
   },
   "outputs": [],
   "source": [
    "#1. Choose a corpus of interest.\n",
    "from nltk.corpus import inaugural"
   ]
  },
  {
   "cell_type": "code",
   "execution_count": 134,
   "metadata": {
    "collapsed": true
   },
   "outputs": [],
   "source": [
    "import pandas as pd"
   ]
  },
  {
   "cell_type": "code",
   "execution_count": 135,
   "metadata": {
    "collapsed": true
   },
   "outputs": [],
   "source": [
    "import numpy as np"
   ]
  },
  {
   "cell_type": "code",
   "execution_count": 136,
   "metadata": {},
   "outputs": [
    {
     "data": {
      "text/plain": [
       "145735"
      ]
     },
     "execution_count": 136,
     "metadata": {},
     "output_type": "execute_result"
    }
   ],
   "source": [
    "len(nltk.corpus.inaugural.words())"
   ]
  },
  {
   "cell_type": "code",
   "execution_count": 137,
   "metadata": {},
   "outputs": [
    {
     "data": {
      "text/plain": [
       "8968"
      ]
     },
     "execution_count": 137,
     "metadata": {},
     "output_type": "execute_result"
    }
   ],
   "source": [
    "#2. How many total unique words are in the corpus?\n",
    "len(set(w.lower() for w in nltk.corpus.inaugural.words() if w.isalpha()))"
   ]
  },
  {
   "cell_type": "code",
   "execution_count": 138,
   "metadata": {},
   "outputs": [],
   "source": [
    "words = [w.lower() for w in nltk.corpus.inaugural.words() if w.isalpha()]"
   ]
  },
  {
   "cell_type": "code",
   "execution_count": 139,
   "metadata": {},
   "outputs": [],
   "source": [
    "fd = nltk.FreqDist(words)"
   ]
  },
  {
   "cell_type": "code",
   "execution_count": 140,
   "metadata": {},
   "outputs": [
    {
     "name": "stdout",
     "output_type": "stream",
     "text": [
      "<FreqDist with 8968 samples and 132124 outcomes>\n"
     ]
    }
   ],
   "source": [
    "print(fd)"
   ]
  },
  {
   "cell_type": "code",
   "execution_count": 141,
   "metadata": {},
   "outputs": [],
   "source": [
    "fd_df=pd.DataFrame(fd.most_common(500))"
   ]
  },
  {
   "cell_type": "code",
   "execution_count": 142,
   "metadata": {},
   "outputs": [
    {
     "data": {
      "text/html": [
       "<div>\n",
       "<style>\n",
       "    .dataframe thead tr:only-child th {\n",
       "        text-align: right;\n",
       "    }\n",
       "\n",
       "    .dataframe thead th {\n",
       "        text-align: left;\n",
       "    }\n",
       "\n",
       "    .dataframe tbody tr th {\n",
       "        vertical-align: top;\n",
       "    }\n",
       "</style>\n",
       "<table border=\"1\" class=\"dataframe\">\n",
       "  <thead>\n",
       "    <tr style=\"text-align: right;\">\n",
       "      <th></th>\n",
       "      <th>0</th>\n",
       "      <th>1</th>\n",
       "    </tr>\n",
       "  </thead>\n",
       "  <tbody>\n",
       "    <tr>\n",
       "      <th>0</th>\n",
       "      <td>the</td>\n",
       "      <td>9906</td>\n",
       "    </tr>\n",
       "    <tr>\n",
       "      <th>1</th>\n",
       "      <td>of</td>\n",
       "      <td>6986</td>\n",
       "    </tr>\n",
       "    <tr>\n",
       "      <th>2</th>\n",
       "      <td>and</td>\n",
       "      <td>5139</td>\n",
       "    </tr>\n",
       "    <tr>\n",
       "      <th>3</th>\n",
       "      <td>to</td>\n",
       "      <td>4432</td>\n",
       "    </tr>\n",
       "    <tr>\n",
       "      <th>4</th>\n",
       "      <td>in</td>\n",
       "      <td>2749</td>\n",
       "    </tr>\n",
       "  </tbody>\n",
       "</table>\n",
       "</div>"
      ],
      "text/plain": [
       "     0     1\n",
       "0  the  9906\n",
       "1   of  6986\n",
       "2  and  5139\n",
       "3   to  4432\n",
       "4   in  2749"
      ]
     },
     "execution_count": 142,
     "metadata": {},
     "output_type": "execute_result"
    }
   ],
   "source": [
    "fd_df.head()"
   ]
  },
  {
   "cell_type": "code",
   "execution_count": 143,
   "metadata": {
    "collapsed": true
   },
   "outputs": [],
   "source": [
    "fd_df.columns=['word','frequency']"
   ]
  },
  {
   "cell_type": "code",
   "execution_count": 144,
   "metadata": {},
   "outputs": [],
   "source": [
    "fd_df['cumulative frequency']=np.cumsum(fd_df['frequency'])"
   ]
  },
  {
   "cell_type": "code",
   "execution_count": 145,
   "metadata": {},
   "outputs": [
    {
     "data": {
      "text/plain": [
       "56"
      ]
     },
     "execution_count": 145,
     "metadata": {},
     "output_type": "execute_result"
    }
   ],
   "source": [
    "#3. Taking the most common words, how many unique words represent half of the total words in the corpus?\n",
    "(fd_df['cumulative frequency'] >= (132124/2)).idxmax()"
   ]
  },
  {
   "cell_type": "code",
   "execution_count": 146,
   "metadata": {},
   "outputs": [
    {
     "data": {
      "text/html": [
       "<div>\n",
       "<style>\n",
       "    .dataframe thead tr:only-child th {\n",
       "        text-align: right;\n",
       "    }\n",
       "\n",
       "    .dataframe thead th {\n",
       "        text-align: left;\n",
       "    }\n",
       "\n",
       "    .dataframe tbody tr th {\n",
       "        vertical-align: top;\n",
       "    }\n",
       "</style>\n",
       "<table border=\"1\" class=\"dataframe\">\n",
       "  <thead>\n",
       "    <tr style=\"text-align: right;\">\n",
       "      <th></th>\n",
       "      <th>word</th>\n",
       "      <th>frequency</th>\n",
       "      <th>cumulative frequency</th>\n",
       "    </tr>\n",
       "  </thead>\n",
       "  <tbody>\n",
       "    <tr>\n",
       "      <th>55</th>\n",
       "      <td>nation</td>\n",
       "      <td>302</td>\n",
       "      <td>65929</td>\n",
       "    </tr>\n",
       "    <tr>\n",
       "      <th>56</th>\n",
       "      <td>if</td>\n",
       "      <td>286</td>\n",
       "      <td>66215</td>\n",
       "    </tr>\n",
       "    <tr>\n",
       "      <th>57</th>\n",
       "      <td>every</td>\n",
       "      <td>285</td>\n",
       "      <td>66500</td>\n",
       "    </tr>\n",
       "  </tbody>\n",
       "</table>\n",
       "</div>"
      ],
      "text/plain": [
       "      word  frequency  cumulative frequency\n",
       "55  nation        302                 65929\n",
       "56      if        286                 66215\n",
       "57   every        285                 66500"
      ]
     },
     "execution_count": 146,
     "metadata": {},
     "output_type": "execute_result"
    }
   ],
   "source": [
    "fd_df[55:58]"
   ]
  },
  {
   "cell_type": "code",
   "execution_count": 147,
   "metadata": {},
   "outputs": [
    {
     "data": {
      "text/plain": [
       "[('the', 9906),\n",
       " ('of', 6986),\n",
       " ('and', 5139),\n",
       " ('to', 4432),\n",
       " ('in', 2749),\n",
       " ('a', 2193),\n",
       " ('our', 2058),\n",
       " ('that', 1726),\n",
       " ('we', 1625),\n",
       " ('be', 1460),\n",
       " ('is', 1416),\n",
       " ('it', 1367),\n",
       " ('for', 1154),\n",
       " ('by', 1066),\n",
       " ('which', 1002),\n",
       " ('have', 997),\n",
       " ('with', 937),\n",
       " ('as', 931),\n",
       " ('not', 924),\n",
       " ('will', 851),\n",
       " ('i', 832),\n",
       " ('this', 812),\n",
       " ('all', 794),\n",
       " ('are', 779),\n",
       " ('their', 738),\n",
       " ('but', 628),\n",
       " ('has', 612),\n",
       " ('government', 593),\n",
       " ('its', 565),\n",
       " ('people', 563),\n",
       " ('from', 551),\n",
       " ('or', 542),\n",
       " ('on', 520),\n",
       " ('my', 491),\n",
       " ('been', 482),\n",
       " ('can', 465),\n",
       " ('us', 455),\n",
       " ('no', 453),\n",
       " ('they', 440),\n",
       " ('so', 383),\n",
       " ('an', 380),\n",
       " ('upon', 369),\n",
       " ('who', 361),\n",
       " ('must', 346),\n",
       " ('at', 341),\n",
       " ('may', 334),\n",
       " ('great', 331),\n",
       " ('states', 329),\n",
       " ('world', 329),\n",
       " ('them', 327),\n",
       " ('should', 323),\n",
       " ('those', 317),\n",
       " ('shall', 314),\n",
       " ('more', 307),\n",
       " ('country', 302),\n",
       " ('nation', 302),\n",
       " ('if', 286),\n",
       " ('every', 285),\n",
       " ('these', 278),\n",
       " ('any', 276),\n",
       " ('was', 268),\n",
       " ('other', 256),\n",
       " ('peace', 252),\n",
       " ('there', 251),\n",
       " ('own', 245),\n",
       " ('one', 243),\n",
       " ('new', 240),\n",
       " ('only', 238),\n",
       " ('citizens', 237),\n",
       " ('than', 234),\n",
       " ('power', 230),\n",
       " ('public', 225),\n",
       " ('do', 222),\n",
       " ('such', 218),\n",
       " ('now', 213),\n",
       " ('would', 209),\n",
       " ('his', 208),\n",
       " ('time', 206),\n",
       " ('constitution', 205),\n",
       " ('when', 203),\n",
       " ('s', 202),\n",
       " ('under', 197),\n",
       " ('united', 197),\n",
       " ('nations', 194),\n",
       " ('america', 192),\n",
       " ('union', 188),\n",
       " ('me', 186),\n",
       " ('freedom', 183),\n",
       " ('free', 179),\n",
       " ('you', 178),\n",
       " ('war', 175),\n",
       " ('most', 172),\n",
       " ('what', 166),\n",
       " ('national', 154),\n",
       " ('made', 151),\n",
       " ('let', 149),\n",
       " ('fellow', 148),\n",
       " ('american', 147),\n",
       " ('men', 144),\n",
       " ('good', 143),\n",
       " ('were', 139),\n",
       " ('without', 138),\n",
       " ('spirit', 138),\n",
       " ('well', 137),\n",
       " ('rights', 136),\n",
       " ('years', 134),\n",
       " ('justice', 134),\n",
       " ('law', 134),\n",
       " ('life', 133),\n",
       " ('make', 133),\n",
       " ('had', 130),\n",
       " ('laws', 130),\n",
       " ('congress', 129),\n",
       " ('before', 127),\n",
       " ('never', 125),\n",
       " ('into', 123),\n",
       " ('best', 120),\n",
       " ('each', 119),\n",
       " ('just', 117),\n",
       " ('duty', 116),\n",
       " ('liberty', 116),\n",
       " ('hope', 115),\n",
       " ('interests', 113),\n",
       " ('right', 113),\n",
       " ('work', 113),\n",
       " ('your', 112),\n",
       " ('against', 112),\n",
       " ('he', 110),\n",
       " ('because', 110),\n",
       " ('state', 109),\n",
       " ('some', 108),\n",
       " ('among', 107),\n",
       " ('both', 106),\n",
       " ('political', 106),\n",
       " ('through', 104),\n",
       " ('man', 102),\n",
       " ('many', 101),\n",
       " ('powers', 101),\n",
       " ('foreign', 101),\n",
       " ('know', 100),\n",
       " ('much', 99),\n",
       " ('god', 98),\n",
       " ('executive', 97),\n",
       " ('policy', 97),\n",
       " ('history', 96),\n",
       " ('long', 96),\n",
       " ('first', 95),\n",
       " ('between', 95),\n",
       " ('part', 95),\n",
       " ('human', 93),\n",
       " ('out', 93),\n",
       " ('principles', 93),\n",
       " ('within', 93),\n",
       " ('progress', 93),\n",
       " ('duties', 92),\n",
       " ('today', 91),\n",
       " ('administration', 90),\n",
       " ('whole', 90),\n",
       " ('system', 89),\n",
       " ('future', 89),\n",
       " ('support', 89),\n",
       " ('day', 88),\n",
       " ('confidence', 87),\n",
       " ('faith', 87),\n",
       " ('common', 87),\n",
       " ('present', 86),\n",
       " ('over', 86),\n",
       " ('nor', 86),\n",
       " ('far', 86),\n",
       " ('ever', 86),\n",
       " ('too', 85),\n",
       " ('less', 85),\n",
       " ('service', 84),\n",
       " ('purpose', 84),\n",
       " ('same', 83),\n",
       " ('necessary', 82),\n",
       " ('president', 82),\n",
       " ('yet', 81),\n",
       " ('party', 79),\n",
       " ('then', 79),\n",
       " ('force', 79),\n",
       " ('way', 78),\n",
       " ('high', 78),\n",
       " ('ourselves', 78),\n",
       " ('institutions', 76),\n",
       " ('interest', 76),\n",
       " ('while', 76),\n",
       " ('old', 76),\n",
       " ('still', 75),\n",
       " ('general', 75),\n",
       " ('better', 75),\n",
       " ('others', 75),\n",
       " ('always', 75),\n",
       " ('come', 75),\n",
       " ('here', 74),\n",
       " ('office', 73),\n",
       " ('need', 73),\n",
       " ('being', 72),\n",
       " ('itself', 72),\n",
       " ('together', 72)]"
      ]
     },
     "execution_count": 147,
     "metadata": {},
     "output_type": "execute_result"
    }
   ],
   "source": [
    "#4. Identify the 200 highest frequency words in this corpus.\n",
    "fd.most_common(200)"
   ]
  },
  {
   "cell_type": "code",
   "execution_count": 148,
   "metadata": {},
   "outputs": [
    {
     "data": {
      "image/png": "[encoded data removed]",
      "text/plain": [
       "<matplotlib.figure.Figure at 0x1d086dae080>"
      ]
     },
     "metadata": {},
     "output_type": "display_data"
    }
   ],
   "source": [
    "#5. Create a graph that shows the relative frequency of these 200 words.\n",
    "fd.plot(200,cumulative=True)"
   ]
  },
  {
   "cell_type": "code",
   "execution_count": 149,
   "metadata": {},
   "outputs": [],
   "source": [
    "#6. Does the observed relative frequency of these words follow Zipf’s law? Explain.\n",
    "fd_df['proportion of words'] = (fd_df['frequency']/132124)*100"
   ]
  },
  {
   "cell_type": "code",
   "execution_count": 150,
   "metadata": {},
   "outputs": [
    {
     "data": {
      "text/html": [
       "<div>\n",
       "<style>\n",
       "    .dataframe thead tr:only-child th {\n",
       "        text-align: right;\n",
       "    }\n",
       "\n",
       "    .dataframe thead th {\n",
       "        text-align: left;\n",
       "    }\n",
       "\n",
       "    .dataframe tbody tr th {\n",
       "        vertical-align: top;\n",
       "    }\n",
       "</style>\n",
       "<table border=\"1\" class=\"dataframe\">\n",
       "  <thead>\n",
       "    <tr style=\"text-align: right;\">\n",
       "      <th></th>\n",
       "      <th>word</th>\n",
       "      <th>frequency</th>\n",
       "      <th>cumulative frequency</th>\n",
       "      <th>proportion of words</th>\n",
       "    </tr>\n",
       "  </thead>\n",
       "  <tbody>\n",
       "    <tr>\n",
       "      <th>0</th>\n",
       "      <td>the</td>\n",
       "      <td>9906</td>\n",
       "      <td>9906</td>\n",
       "      <td>7.497502</td>\n",
       "    </tr>\n",
       "    <tr>\n",
       "      <th>1</th>\n",
       "      <td>of</td>\n",
       "      <td>6986</td>\n",
       "      <td>16892</td>\n",
       "      <td>5.287457</td>\n",
       "    </tr>\n",
       "    <tr>\n",
       "      <th>2</th>\n",
       "      <td>and</td>\n",
       "      <td>5139</td>\n",
       "      <td>22031</td>\n",
       "      <td>3.889528</td>\n",
       "    </tr>\n",
       "    <tr>\n",
       "      <th>3</th>\n",
       "      <td>to</td>\n",
       "      <td>4432</td>\n",
       "      <td>26463</td>\n",
       "      <td>3.354425</td>\n",
       "    </tr>\n",
       "    <tr>\n",
       "      <th>4</th>\n",
       "      <td>in</td>\n",
       "      <td>2749</td>\n",
       "      <td>29212</td>\n",
       "      <td>2.080621</td>\n",
       "    </tr>\n",
       "    <tr>\n",
       "      <th>5</th>\n",
       "      <td>a</td>\n",
       "      <td>2193</td>\n",
       "      <td>31405</td>\n",
       "      <td>1.659804</td>\n",
       "    </tr>\n",
       "    <tr>\n",
       "      <th>6</th>\n",
       "      <td>our</td>\n",
       "      <td>2058</td>\n",
       "      <td>33463</td>\n",
       "      <td>1.557628</td>\n",
       "    </tr>\n",
       "    <tr>\n",
       "      <th>7</th>\n",
       "      <td>that</td>\n",
       "      <td>1726</td>\n",
       "      <td>35189</td>\n",
       "      <td>1.306349</td>\n",
       "    </tr>\n",
       "    <tr>\n",
       "      <th>8</th>\n",
       "      <td>we</td>\n",
       "      <td>1625</td>\n",
       "      <td>36814</td>\n",
       "      <td>1.229905</td>\n",
       "    </tr>\n",
       "    <tr>\n",
       "      <th>9</th>\n",
       "      <td>be</td>\n",
       "      <td>1460</td>\n",
       "      <td>38274</td>\n",
       "      <td>1.105023</td>\n",
       "    </tr>\n",
       "    <tr>\n",
       "      <th>10</th>\n",
       "      <td>is</td>\n",
       "      <td>1416</td>\n",
       "      <td>39690</td>\n",
       "      <td>1.071721</td>\n",
       "    </tr>\n",
       "    <tr>\n",
       "      <th>11</th>\n",
       "      <td>it</td>\n",
       "      <td>1367</td>\n",
       "      <td>41057</td>\n",
       "      <td>1.034634</td>\n",
       "    </tr>\n",
       "    <tr>\n",
       "      <th>12</th>\n",
       "      <td>for</td>\n",
       "      <td>1154</td>\n",
       "      <td>42211</td>\n",
       "      <td>0.873422</td>\n",
       "    </tr>\n",
       "    <tr>\n",
       "      <th>13</th>\n",
       "      <td>by</td>\n",
       "      <td>1066</td>\n",
       "      <td>43277</td>\n",
       "      <td>0.806818</td>\n",
       "    </tr>\n",
       "    <tr>\n",
       "      <th>14</th>\n",
       "      <td>which</td>\n",
       "      <td>1002</td>\n",
       "      <td>44279</td>\n",
       "      <td>0.758378</td>\n",
       "    </tr>\n",
       "    <tr>\n",
       "      <th>15</th>\n",
       "      <td>have</td>\n",
       "      <td>997</td>\n",
       "      <td>45276</td>\n",
       "      <td>0.754594</td>\n",
       "    </tr>\n",
       "    <tr>\n",
       "      <th>16</th>\n",
       "      <td>with</td>\n",
       "      <td>937</td>\n",
       "      <td>46213</td>\n",
       "      <td>0.709182</td>\n",
       "    </tr>\n",
       "    <tr>\n",
       "      <th>17</th>\n",
       "      <td>as</td>\n",
       "      <td>931</td>\n",
       "      <td>47144</td>\n",
       "      <td>0.704641</td>\n",
       "    </tr>\n",
       "    <tr>\n",
       "      <th>18</th>\n",
       "      <td>not</td>\n",
       "      <td>924</td>\n",
       "      <td>48068</td>\n",
       "      <td>0.699343</td>\n",
       "    </tr>\n",
       "  </tbody>\n",
       "</table>\n",
       "</div>"
      ],
      "text/plain": [
       "     word  frequency  cumulative frequency  proportion of words\n",
       "0     the       9906                  9906             7.497502\n",
       "1      of       6986                 16892             5.287457\n",
       "2     and       5139                 22031             3.889528\n",
       "3      to       4432                 26463             3.354425\n",
       "4      in       2749                 29212             2.080621\n",
       "5       a       2193                 31405             1.659804\n",
       "6     our       2058                 33463             1.557628\n",
       "7    that       1726                 35189             1.306349\n",
       "8      we       1625                 36814             1.229905\n",
       "9      be       1460                 38274             1.105023\n",
       "10     is       1416                 39690             1.071721\n",
       "11     it       1367                 41057             1.034634\n",
       "12    for       1154                 42211             0.873422\n",
       "13     by       1066                 43277             0.806818\n",
       "14  which       1002                 44279             0.758378\n",
       "15   have        997                 45276             0.754594\n",
       "16   with        937                 46213             0.709182\n",
       "17     as        931                 47144             0.704641\n",
       "18    not        924                 48068             0.699343"
      ]
     },
     "execution_count": 150,
     "metadata": {},
     "output_type": "execute_result"
    }
   ],
   "source": [
    "fd_df[0:19]"
   ]
  },
  {
   "cell_type": "markdown",
   "metadata": {},
   "source": [
    "No, this corpus does not appear to follow Zipf's law. The frequency of each word is not exactly proportional to the rank as we see from the first few words. If Zip's law held, the first word would occur twice as often as the 2nd word, three times as often as the 3rd word etc. In this particular corpus, this does not appear to be true. The potential reason being that this corpus might not be large enough for the law to hold or might be too specific topically."
   ]
  },
  {
   "cell_type": "code",
   "execution_count": 151,
   "metadata": {
    "collapsed": true
   },
   "outputs": [],
   "source": [
    "# 7. In what ways do you think the frequency of the words in this corpus differ from “all words in all corpora.”"
   ]
  },
  {
   "cell_type": "markdown",
   "metadata": {},
   "source": [
    "The frequency of words in this corpus would likely vary from other corpuses since inaugural addresses often hit upon similar themes that might not be representative of all language. For example, there might be more references to nouns such as America, God, nation, people and more superlative adjectives such as great, good, inspiring, august etc."
   ]
  }
 ],
 "metadata": {
  "kernelspec": {
   "display_name": "Python 3",
   "language": "python",
   "name": "python3"
  },
  "language_info": {
   "codemirror_mode": {
    "name": "ipython",
    "version": 3
   },
   "file_extension": ".py",
   "mimetype": "text/x-python",
   "name": "python",
   "nbconvert_exporter": "python",
   "pygments_lexer": "ipython3",
   "version": "3.6.1"
  }
 },
 "nbformat": 4,
 "nbformat_minor": 2
}
