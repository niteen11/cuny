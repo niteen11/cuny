{
 "cells": [
  {
   "cell_type": "code",
   "execution_count": 1,
   "metadata": {
    "collapsed": true
   },
   "outputs": [],
   "source": [
    "import pandas as pd"
   ]
  },
  {
   "cell_type": "code",
   "execution_count": 2,
   "metadata": {
    "collapsed": true
   },
   "outputs": [],
   "source": [
    "import matplotlib.pyplot as plt"
   ]
  },
  {
   "cell_type": "code",
   "execution_count": 22,
   "metadata": {
    "collapsed": true
   },
   "outputs": [],
   "source": [
    "import numpy as np"
   ]
  },
  {
   "cell_type": "code",
   "execution_count": 23,
   "metadata": {
    "collapsed": true
   },
   "outputs": [],
   "source": [
    "import scipy.stats as stats"
   ]
  },
  {
   "cell_type": "code",
   "execution_count": 3,
   "metadata": {
    "collapsed": true
   },
   "outputs": [],
   "source": [
    "airport_df1 = pd.read_csv(\"C:/Data/airport_final.csv\")"
   ]
  },
  {
   "cell_type": "code",
   "execution_count": 4,
   "metadata": {},
   "outputs": [
    {
     "data": {
      "text/html": [
       "<div>\n",
       "<style>\n",
       "    .dataframe thead tr:only-child th {\n",
       "        text-align: right;\n",
       "    }\n",
       "\n",
       "    .dataframe thead th {\n",
       "        text-align: left;\n",
       "    }\n",
       "\n",
       "    .dataframe tbody tr th {\n",
       "        vertical-align: top;\n",
       "    }\n",
       "</style>\n",
       "<table border=\"1\" class=\"dataframe\">\n",
       "  <thead>\n",
       "    <tr style=\"text-align: right;\">\n",
       "      <th></th>\n",
       "      <th>Unnamed: 0</th>\n",
       "      <th>ID</th>\n",
       "      <th>total</th>\n",
       "      <th>Equipment</th>\n",
       "      <th>Airport_Name</th>\n",
       "      <th>City</th>\n",
       "      <th>Country</th>\n",
       "    </tr>\n",
       "  </thead>\n",
       "  <tbody>\n",
       "    <tr>\n",
       "      <th>0</th>\n",
       "      <td>1</td>\n",
       "      <td>100</td>\n",
       "      <td>18</td>\n",
       "      <td>CRJ</td>\n",
       "      <td>Ottawa Macdonald-Cartier International Airport</td>\n",
       "      <td>Ottawa</td>\n",
       "      <td>Canada</td>\n",
       "    </tr>\n",
       "    <tr>\n",
       "      <th>1</th>\n",
       "      <td>2</td>\n",
       "      <td>106</td>\n",
       "      <td>4</td>\n",
       "      <td>PAG</td>\n",
       "      <td>Port Menier Airport</td>\n",
       "      <td>Port Menier</td>\n",
       "      <td>Canada</td>\n",
       "    </tr>\n",
       "    <tr>\n",
       "      <th>2</th>\n",
       "      <td>3</td>\n",
       "      <td>108</td>\n",
       "      <td>2</td>\n",
       "      <td>DH1</td>\n",
       "      <td>Prince Rupert Airport</td>\n",
       "      <td>Prince Pupert</td>\n",
       "      <td>Canada</td>\n",
       "    </tr>\n",
       "    <tr>\n",
       "      <th>3</th>\n",
       "      <td>4</td>\n",
       "      <td>108</td>\n",
       "      <td>2</td>\n",
       "      <td>DH3</td>\n",
       "      <td>Prince Rupert Airport</td>\n",
       "      <td>Prince Pupert</td>\n",
       "      <td>Canada</td>\n",
       "    </tr>\n",
       "    <tr>\n",
       "      <th>4</th>\n",
       "      <td>5</td>\n",
       "      <td>109</td>\n",
       "      <td>4</td>\n",
       "      <td>J31</td>\n",
       "      <td>Fort Chipewyan Airport</td>\n",
       "      <td>Fort Chipewyan</td>\n",
       "      <td>Canada</td>\n",
       "    </tr>\n",
       "  </tbody>\n",
       "</table>\n",
       "</div>"
      ],
      "text/plain": [
       "   Unnamed: 0   ID  total Equipment  \\\n",
       "0           1  100     18       CRJ   \n",
       "1           2  106      4       PAG   \n",
       "2           3  108      2       DH1   \n",
       "3           4  108      2       DH3   \n",
       "4           5  109      4       J31   \n",
       "\n",
       "                                     Airport_Name            City Country  \n",
       "0  Ottawa Macdonald-Cartier International Airport          Ottawa  Canada  \n",
       "1                             Port Menier Airport     Port Menier  Canada  \n",
       "2                           Prince Rupert Airport   Prince Pupert  Canada  \n",
       "3                           Prince Rupert Airport   Prince Pupert  Canada  \n",
       "4                          Fort Chipewyan Airport  Fort Chipewyan  Canada  "
      ]
     },
     "execution_count": 4,
     "metadata": {},
     "output_type": "execute_result"
    }
   ],
   "source": [
    "airport_df1.head()"
   ]
  },
  {
   "cell_type": "code",
   "execution_count": 5,
   "metadata": {
    "collapsed": true
   },
   "outputs": [],
   "source": [
    "airport_df1 = airport_df1.drop(['Unnamed: 0'], axis=1)"
   ]
  },
  {
   "cell_type": "code",
   "execution_count": 6,
   "metadata": {},
   "outputs": [
    {
     "data": {
      "text/html": [
       "<div>\n",
       "<style>\n",
       "    .dataframe thead tr:only-child th {\n",
       "        text-align: right;\n",
       "    }\n",
       "\n",
       "    .dataframe thead th {\n",
       "        text-align: left;\n",
       "    }\n",
       "\n",
       "    .dataframe tbody tr th {\n",
       "        vertical-align: top;\n",
       "    }\n",
       "</style>\n",
       "<table border=\"1\" class=\"dataframe\">\n",
       "  <thead>\n",
       "    <tr style=\"text-align: right;\">\n",
       "      <th></th>\n",
       "      <th>ID</th>\n",
       "      <th>total</th>\n",
       "      <th>Equipment</th>\n",
       "      <th>Airport_Name</th>\n",
       "      <th>City</th>\n",
       "      <th>Country</th>\n",
       "    </tr>\n",
       "  </thead>\n",
       "  <tbody>\n",
       "    <tr>\n",
       "      <th>0</th>\n",
       "      <td>100</td>\n",
       "      <td>18</td>\n",
       "      <td>CRJ</td>\n",
       "      <td>Ottawa Macdonald-Cartier International Airport</td>\n",
       "      <td>Ottawa</td>\n",
       "      <td>Canada</td>\n",
       "    </tr>\n",
       "    <tr>\n",
       "      <th>1</th>\n",
       "      <td>106</td>\n",
       "      <td>4</td>\n",
       "      <td>PAG</td>\n",
       "      <td>Port Menier Airport</td>\n",
       "      <td>Port Menier</td>\n",
       "      <td>Canada</td>\n",
       "    </tr>\n",
       "    <tr>\n",
       "      <th>2</th>\n",
       "      <td>108</td>\n",
       "      <td>2</td>\n",
       "      <td>DH1</td>\n",
       "      <td>Prince Rupert Airport</td>\n",
       "      <td>Prince Pupert</td>\n",
       "      <td>Canada</td>\n",
       "    </tr>\n",
       "    <tr>\n",
       "      <th>3</th>\n",
       "      <td>108</td>\n",
       "      <td>2</td>\n",
       "      <td>DH3</td>\n",
       "      <td>Prince Rupert Airport</td>\n",
       "      <td>Prince Pupert</td>\n",
       "      <td>Canada</td>\n",
       "    </tr>\n",
       "    <tr>\n",
       "      <th>4</th>\n",
       "      <td>109</td>\n",
       "      <td>4</td>\n",
       "      <td>J31</td>\n",
       "      <td>Fort Chipewyan Airport</td>\n",
       "      <td>Fort Chipewyan</td>\n",
       "      <td>Canada</td>\n",
       "    </tr>\n",
       "  </tbody>\n",
       "</table>\n",
       "</div>"
      ],
      "text/plain": [
       "    ID  total Equipment                                    Airport_Name  \\\n",
       "0  100     18       CRJ  Ottawa Macdonald-Cartier International Airport   \n",
       "1  106      4       PAG                             Port Menier Airport   \n",
       "2  108      2       DH1                           Prince Rupert Airport   \n",
       "3  108      2       DH3                           Prince Rupert Airport   \n",
       "4  109      4       J31                          Fort Chipewyan Airport   \n",
       "\n",
       "             City Country  \n",
       "0          Ottawa  Canada  \n",
       "1     Port Menier  Canada  \n",
       "2   Prince Pupert  Canada  \n",
       "3   Prince Pupert  Canada  \n",
       "4  Fort Chipewyan  Canada  "
      ]
     },
     "execution_count": 6,
     "metadata": {},
     "output_type": "execute_result"
    }
   ],
   "source": [
    "airport_df1.head()"
   ]
  },
  {
   "cell_type": "code",
   "execution_count": 7,
   "metadata": {
    "collapsed": true
   },
   "outputs": [],
   "source": [
    "airport_df2 = pd.read_csv(\"https://raw.githubusercontent.com/brian-cuny/620project1/master/calculations_international.csv\")"
   ]
  },
  {
   "cell_type": "code",
   "execution_count": 8,
   "metadata": {},
   "outputs": [
    {
     "data": {
      "text/html": [
       "<div>\n",
       "<style>\n",
       "    .dataframe thead tr:only-child th {\n",
       "        text-align: right;\n",
       "    }\n",
       "\n",
       "    .dataframe thead th {\n",
       "        text-align: left;\n",
       "    }\n",
       "\n",
       "    .dataframe tbody tr th {\n",
       "        vertical-align: top;\n",
       "    }\n",
       "</style>\n",
       "<table border=\"1\" class=\"dataframe\">\n",
       "  <thead>\n",
       "    <tr style=\"text-align: right;\">\n",
       "      <th></th>\n",
       "      <th>ID</th>\n",
       "      <th>Airport</th>\n",
       "      <th>Country</th>\n",
       "      <th>Centrality</th>\n",
       "      <th>Closeness</th>\n",
       "      <th>Eigenvector</th>\n",
       "      <th>Betweenness</th>\n",
       "      <th>International</th>\n",
       "    </tr>\n",
       "  </thead>\n",
       "  <tbody>\n",
       "    <tr>\n",
       "      <th>0</th>\n",
       "      <td>21</td>\n",
       "      <td>Sault Ste Marie</td>\n",
       "      <td>Canada</td>\n",
       "      <td>2</td>\n",
       "      <td>0.231846</td>\n",
       "      <td>0.007420</td>\n",
       "      <td>0.000000</td>\n",
       "      <td>False</td>\n",
       "    </tr>\n",
       "    <tr>\n",
       "      <th>1</th>\n",
       "      <td>24</td>\n",
       "      <td>St Anthony</td>\n",
       "      <td>Canada</td>\n",
       "      <td>2</td>\n",
       "      <td>0.227315</td>\n",
       "      <td>0.007676</td>\n",
       "      <td>0.003530</td>\n",
       "      <td>False</td>\n",
       "    </tr>\n",
       "    <tr>\n",
       "      <th>2</th>\n",
       "      <td>27</td>\n",
       "      <td>Baie Comeau</td>\n",
       "      <td>Canada</td>\n",
       "      <td>2</td>\n",
       "      <td>0.224873</td>\n",
       "      <td>0.006324</td>\n",
       "      <td>0.000000</td>\n",
       "      <td>False</td>\n",
       "    </tr>\n",
       "    <tr>\n",
       "      <th>3</th>\n",
       "      <td>28</td>\n",
       "      <td>Bagotville</td>\n",
       "      <td>Canada</td>\n",
       "      <td>3</td>\n",
       "      <td>0.266357</td>\n",
       "      <td>0.023518</td>\n",
       "      <td>0.004414</td>\n",
       "      <td>False</td>\n",
       "    </tr>\n",
       "    <tr>\n",
       "      <th>4</th>\n",
       "      <td>29</td>\n",
       "      <td>Baker Lake</td>\n",
       "      <td>Canada</td>\n",
       "      <td>4</td>\n",
       "      <td>0.232877</td>\n",
       "      <td>0.005315</td>\n",
       "      <td>0.001829</td>\n",
       "      <td>False</td>\n",
       "    </tr>\n",
       "  </tbody>\n",
       "</table>\n",
       "</div>"
      ],
      "text/plain": [
       "   ID          Airport Country  Centrality  Closeness  Eigenvector  \\\n",
       "0  21  Sault Ste Marie  Canada           2   0.231846     0.007420   \n",
       "1  24       St Anthony  Canada           2   0.227315     0.007676   \n",
       "2  27      Baie Comeau  Canada           2   0.224873     0.006324   \n",
       "3  28       Bagotville  Canada           3   0.266357     0.023518   \n",
       "4  29       Baker Lake  Canada           4   0.232877     0.005315   \n",
       "\n",
       "   Betweenness  International  \n",
       "0     0.000000          False  \n",
       "1     0.003530          False  \n",
       "2     0.000000          False  \n",
       "3     0.004414          False  \n",
       "4     0.001829          False  "
      ]
     },
     "execution_count": 8,
     "metadata": {},
     "output_type": "execute_result"
    }
   ],
   "source": [
    "airport_df2.head()"
   ]
  },
  {
   "cell_type": "code",
   "execution_count": 9,
   "metadata": {
    "collapsed": true
   },
   "outputs": [],
   "source": [
    "airport_df3 = pd.merge(airport_df1, airport_df2, on='ID')"
   ]
  },
  {
   "cell_type": "code",
   "execution_count": 10,
   "metadata": {},
   "outputs": [
    {
     "data": {
      "text/html": [
       "<div>\n",
       "<style>\n",
       "    .dataframe thead tr:only-child th {\n",
       "        text-align: right;\n",
       "    }\n",
       "\n",
       "    .dataframe thead th {\n",
       "        text-align: left;\n",
       "    }\n",
       "\n",
       "    .dataframe tbody tr th {\n",
       "        vertical-align: top;\n",
       "    }\n",
       "</style>\n",
       "<table border=\"1\" class=\"dataframe\">\n",
       "  <thead>\n",
       "    <tr style=\"text-align: right;\">\n",
       "      <th></th>\n",
       "      <th>ID</th>\n",
       "      <th>total</th>\n",
       "      <th>Equipment</th>\n",
       "      <th>Airport_Name</th>\n",
       "      <th>City</th>\n",
       "      <th>Country_x</th>\n",
       "      <th>Airport</th>\n",
       "      <th>Country_y</th>\n",
       "      <th>Centrality</th>\n",
       "      <th>Closeness</th>\n",
       "      <th>Eigenvector</th>\n",
       "      <th>Betweenness</th>\n",
       "      <th>International</th>\n",
       "    </tr>\n",
       "  </thead>\n",
       "  <tbody>\n",
       "    <tr>\n",
       "      <th>0</th>\n",
       "      <td>100</td>\n",
       "      <td>18</td>\n",
       "      <td>CRJ</td>\n",
       "      <td>Ottawa Macdonald-Cartier International Airport</td>\n",
       "      <td>Ottawa</td>\n",
       "      <td>Canada</td>\n",
       "      <td>Ottawa Macdonald Cartier Intl</td>\n",
       "      <td>Canada</td>\n",
       "      <td>15</td>\n",
       "      <td>0.344337</td>\n",
       "      <td>0.188821</td>\n",
       "      <td>0.117226</td>\n",
       "      <td>True</td>\n",
       "    </tr>\n",
       "    <tr>\n",
       "      <th>1</th>\n",
       "      <td>108</td>\n",
       "      <td>2</td>\n",
       "      <td>DH1</td>\n",
       "      <td>Prince Rupert Airport</td>\n",
       "      <td>Prince Pupert</td>\n",
       "      <td>Canada</td>\n",
       "      <td>Prince Rupert</td>\n",
       "      <td>Canada</td>\n",
       "      <td>2</td>\n",
       "      <td>0.252541</td>\n",
       "      <td>0.023661</td>\n",
       "      <td>0.000000</td>\n",
       "      <td>False</td>\n",
       "    </tr>\n",
       "    <tr>\n",
       "      <th>2</th>\n",
       "      <td>108</td>\n",
       "      <td>2</td>\n",
       "      <td>DH3</td>\n",
       "      <td>Prince Rupert Airport</td>\n",
       "      <td>Prince Pupert</td>\n",
       "      <td>Canada</td>\n",
       "      <td>Prince Rupert</td>\n",
       "      <td>Canada</td>\n",
       "      <td>2</td>\n",
       "      <td>0.252541</td>\n",
       "      <td>0.023661</td>\n",
       "      <td>0.000000</td>\n",
       "      <td>False</td>\n",
       "    </tr>\n",
       "    <tr>\n",
       "      <th>3</th>\n",
       "      <td>109</td>\n",
       "      <td>4</td>\n",
       "      <td>J31</td>\n",
       "      <td>Fort Chipewyan Airport</td>\n",
       "      <td>Fort Chipewyan</td>\n",
       "      <td>Canada</td>\n",
       "      <td>Fort Chipewyan</td>\n",
       "      <td>Canada</td>\n",
       "      <td>2</td>\n",
       "      <td>0.224632</td>\n",
       "      <td>0.008939</td>\n",
       "      <td>0.000019</td>\n",
       "      <td>False</td>\n",
       "    </tr>\n",
       "    <tr>\n",
       "      <th>4</th>\n",
       "      <td>111</td>\n",
       "      <td>8</td>\n",
       "      <td>DH1</td>\n",
       "      <td>Quebec Jean Lesage International Airport</td>\n",
       "      <td>Quebec</td>\n",
       "      <td>Canada</td>\n",
       "      <td>Quebec Jean Lesage Intl</td>\n",
       "      <td>Canada</td>\n",
       "      <td>10</td>\n",
       "      <td>0.289167</td>\n",
       "      <td>0.058400</td>\n",
       "      <td>0.053029</td>\n",
       "      <td>False</td>\n",
       "    </tr>\n",
       "  </tbody>\n",
       "</table>\n",
       "</div>"
      ],
      "text/plain": [
       "    ID  total Equipment                                    Airport_Name  \\\n",
       "0  100     18       CRJ  Ottawa Macdonald-Cartier International Airport   \n",
       "1  108      2       DH1                           Prince Rupert Airport   \n",
       "2  108      2       DH3                           Prince Rupert Airport   \n",
       "3  109      4       J31                          Fort Chipewyan Airport   \n",
       "4  111      8       DH1        Quebec Jean Lesage International Airport   \n",
       "\n",
       "             City Country_x                        Airport Country_y  \\\n",
       "0          Ottawa    Canada  Ottawa Macdonald Cartier Intl    Canada   \n",
       "1   Prince Pupert    Canada                  Prince Rupert    Canada   \n",
       "2   Prince Pupert    Canada                  Prince Rupert    Canada   \n",
       "3  Fort Chipewyan    Canada                 Fort Chipewyan    Canada   \n",
       "4          Quebec    Canada        Quebec Jean Lesage Intl    Canada   \n",
       "\n",
       "   Centrality  Closeness  Eigenvector  Betweenness  International  \n",
       "0          15   0.344337     0.188821     0.117226           True  \n",
       "1           2   0.252541     0.023661     0.000000          False  \n",
       "2           2   0.252541     0.023661     0.000000          False  \n",
       "3           2   0.224632     0.008939     0.000019          False  \n",
       "4          10   0.289167     0.058400     0.053029          False  "
      ]
     },
     "execution_count": 10,
     "metadata": {},
     "output_type": "execute_result"
    }
   ],
   "source": [
    "airport_df3.head()"
   ]
  },
  {
   "cell_type": "code",
   "execution_count": 11,
   "metadata": {
    "collapsed": true
   },
   "outputs": [],
   "source": [
    "equipment_summary = airport_df3['Equipment'].value_counts()"
   ]
  },
  {
   "cell_type": "code",
   "execution_count": 12,
   "metadata": {},
   "outputs": [
    {
     "data": {
      "text/plain": [
       "BEH    34\n",
       "DHT    28\n",
       "DH8    26\n",
       "DH1    20\n",
       "AT4    18\n",
       "Name: Equipment, dtype: int64"
      ]
     },
     "execution_count": 12,
     "metadata": {},
     "output_type": "execute_result"
    }
   ],
   "source": [
    "equipment_summary.head()"
   ]
  },
  {
   "cell_type": "code",
   "execution_count": 16,
   "metadata": {},
   "outputs": [
    {
     "data": {
      "text/plain": [
       "BEH            34\n",
       "DHT            28\n",
       "DH8            26\n",
       "DH1            20\n",
       "AT4            18\n",
       "DH4            12\n",
       "SWM            12\n",
       "738            10\n",
       "73W            10\n",
       "BE1             8\n",
       "BNI             7\n",
       "J32             6\n",
       "SF3             5\n",
       "SFB             4\n",
       "CRJ             4\n",
       "DH3             4\n",
       "J31             4\n",
       "BET             3\n",
       "73H             3\n",
       "319             3\n",
       "AT7             3\n",
       "73M             3\n",
       "PL2             3\n",
       "PL2 BEH         2\n",
       "D38             2\n",
       "737             2\n",
       "320             2\n",
       "DHT DH8         2\n",
       "BEH PL2         2\n",
       "J41             2\n",
       "F70             2\n",
       "73W 736         2\n",
       "DH8 BET         1\n",
       "DH3 CRJ         1\n",
       "DHT BET         1\n",
       "DH8 73M         1\n",
       "ER4 ERD         1\n",
       "777             1\n",
       "73C             1\n",
       "CR7             1\n",
       "BEC             1\n",
       "DHL             1\n",
       "75W             1\n",
       "AT4 AT7         1\n",
       "PL2 J32         1\n",
       "ER4             1\n",
       "D38 BEH DH3     1\n",
       "BE1 SF3         1\n",
       "ERJ             1\n",
       "73M 733         1\n",
       "333             1\n",
       "S76             1\n",
       "BET DH8         1\n",
       "SFB DH1         1\n",
       "PAG             1\n",
       "DHP             1\n",
       "SF3 BE1         1\n",
       "J32 PL2         1\n",
       "Name: Equipment, dtype: int64"
      ]
     },
     "execution_count": 16,
     "metadata": {},
     "output_type": "execute_result"
    }
   ],
   "source": [
    "equipment_summary"
   ]
  },
  {
   "cell_type": "code",
   "execution_count": 17,
   "metadata": {
    "collapsed": true
   },
   "outputs": [],
   "source": [
    "#Restrict to only those equipment with 10 or more rows of data\n",
    "equipment_rev = ['BEH','DHT','DH8','DH1','AT4','DH4','SWM','738','73W']"
   ]
  },
  {
   "cell_type": "code",
   "execution_count": 19,
   "metadata": {},
   "outputs": [],
   "source": [
    "airport_df4 = airport_df3[airport_df3.Equipment.isin(equipment_rev)]"
   ]
  },
  {
   "cell_type": "code",
   "execution_count": 20,
   "metadata": {},
   "outputs": [
    {
     "data": {
      "text/html": [
       "<div>\n",
       "<style>\n",
       "    .dataframe thead tr:only-child th {\n",
       "        text-align: right;\n",
       "    }\n",
       "\n",
       "    .dataframe thead th {\n",
       "        text-align: left;\n",
       "    }\n",
       "\n",
       "    .dataframe tbody tr th {\n",
       "        vertical-align: top;\n",
       "    }\n",
       "</style>\n",
       "<table border=\"1\" class=\"dataframe\">\n",
       "  <thead>\n",
       "    <tr style=\"text-align: right;\">\n",
       "      <th></th>\n",
       "      <th>ID</th>\n",
       "      <th>total</th>\n",
       "      <th>Equipment</th>\n",
       "      <th>Airport_Name</th>\n",
       "      <th>City</th>\n",
       "      <th>Country_x</th>\n",
       "      <th>Airport</th>\n",
       "      <th>Country_y</th>\n",
       "      <th>Centrality</th>\n",
       "      <th>Closeness</th>\n",
       "      <th>Eigenvector</th>\n",
       "      <th>Betweenness</th>\n",
       "      <th>International</th>\n",
       "    </tr>\n",
       "  </thead>\n",
       "  <tbody>\n",
       "    <tr>\n",
       "      <th>1</th>\n",
       "      <td>108</td>\n",
       "      <td>2</td>\n",
       "      <td>DH1</td>\n",
       "      <td>Prince Rupert Airport</td>\n",
       "      <td>Prince Pupert</td>\n",
       "      <td>Canada</td>\n",
       "      <td>Prince Rupert</td>\n",
       "      <td>Canada</td>\n",
       "      <td>2</td>\n",
       "      <td>0.252541</td>\n",
       "      <td>0.023661</td>\n",
       "      <td>0.000000</td>\n",
       "      <td>False</td>\n",
       "    </tr>\n",
       "    <tr>\n",
       "      <th>4</th>\n",
       "      <td>111</td>\n",
       "      <td>8</td>\n",
       "      <td>DH1</td>\n",
       "      <td>Quebec Jean Lesage International Airport</td>\n",
       "      <td>Quebec</td>\n",
       "      <td>Canada</td>\n",
       "      <td>Quebec Jean Lesage Intl</td>\n",
       "      <td>Canada</td>\n",
       "      <td>10</td>\n",
       "      <td>0.289167</td>\n",
       "      <td>0.058400</td>\n",
       "      <td>0.053029</td>\n",
       "      <td>False</td>\n",
       "    </tr>\n",
       "    <tr>\n",
       "      <th>5</th>\n",
       "      <td>115</td>\n",
       "      <td>6</td>\n",
       "      <td>SWM</td>\n",
       "      <td>Kenora Airport</td>\n",
       "      <td>Kenora</td>\n",
       "      <td>Canada</td>\n",
       "      <td>Kenora</td>\n",
       "      <td>Canada</td>\n",
       "      <td>3</td>\n",
       "      <td>0.254692</td>\n",
       "      <td>0.014976</td>\n",
       "      <td>0.002629</td>\n",
       "      <td>False</td>\n",
       "    </tr>\n",
       "    <tr>\n",
       "      <th>6</th>\n",
       "      <td>117</td>\n",
       "      <td>6</td>\n",
       "      <td>73W</td>\n",
       "      <td>Greater Moncton International Airport</td>\n",
       "      <td>Moncton</td>\n",
       "      <td>Canada</td>\n",
       "      <td>Greater Moncton Intl</td>\n",
       "      <td>Canada</td>\n",
       "      <td>2</td>\n",
       "      <td>0.272955</td>\n",
       "      <td>0.043702</td>\n",
       "      <td>0.000000</td>\n",
       "      <td>False</td>\n",
       "    </tr>\n",
       "    <tr>\n",
       "      <th>7</th>\n",
       "      <td>119</td>\n",
       "      <td>6</td>\n",
       "      <td>BEH</td>\n",
       "      <td>Comox Airport</td>\n",
       "      <td>Comox</td>\n",
       "      <td>Canada</td>\n",
       "      <td>Comox</td>\n",
       "      <td>Canada</td>\n",
       "      <td>4</td>\n",
       "      <td>0.266697</td>\n",
       "      <td>0.068534</td>\n",
       "      <td>0.000683</td>\n",
       "      <td>False</td>\n",
       "    </tr>\n",
       "  </tbody>\n",
       "</table>\n",
       "</div>"
      ],
      "text/plain": [
       "    ID  total Equipment                              Airport_Name  \\\n",
       "1  108      2       DH1                     Prince Rupert Airport   \n",
       "4  111      8       DH1  Quebec Jean Lesage International Airport   \n",
       "5  115      6       SWM                            Kenora Airport   \n",
       "6  117      6       73W     Greater Moncton International Airport   \n",
       "7  119      6       BEH                             Comox Airport   \n",
       "\n",
       "            City Country_x                  Airport Country_y  Centrality  \\\n",
       "1  Prince Pupert    Canada            Prince Rupert    Canada           2   \n",
       "4         Quebec    Canada  Quebec Jean Lesage Intl    Canada          10   \n",
       "5         Kenora    Canada                   Kenora    Canada           3   \n",
       "6        Moncton    Canada     Greater Moncton Intl    Canada           2   \n",
       "7          Comox    Canada                    Comox    Canada           4   \n",
       "\n",
       "   Closeness  Eigenvector  Betweenness  International  \n",
       "1   0.252541     0.023661     0.000000          False  \n",
       "4   0.289167     0.058400     0.053029          False  \n",
       "5   0.254692     0.014976     0.002629          False  \n",
       "6   0.272955     0.043702     0.000000          False  \n",
       "7   0.266697     0.068534     0.000683          False  "
      ]
     },
     "execution_count": 20,
     "metadata": {},
     "output_type": "execute_result"
    }
   ],
   "source": [
    "airport_df4.head()"
   ]
  },
  {
   "cell_type": "code",
   "execution_count": 36,
   "metadata": {
    "collapsed": true
   },
   "outputs": [],
   "source": [
    "airport_hist = airport_df4['Eigenvector'].hist(by=airport_df3['Equipment'])"
   ]
  },
  {
   "cell_type": "code",
   "execution_count": 37,
   "metadata": {},
   "outputs": [
    {
     "data": {
      "image/png": "[encoded data removed]",
      "text/plain": [
       "<matplotlib.figure.Figure at 0x2052db0be48>"
      ]
     },
     "metadata": {},
     "output_type": "display_data"
    }
   ],
   "source": [
    "plt.show()"
   ]
  },
  {
   "cell_type": "code",
   "execution_count": 35,
   "metadata": {},
   "outputs": [
    {
     "data": {
      "text/plain": [
       "Equipment\n",
       "738    0.101597\n",
       "73W    0.113216\n",
       "AT4    0.007396\n",
       "BEH    0.012623\n",
       "DH1    0.016030\n",
       "DH4    0.090312\n",
       "DH8    0.004547\n",
       "DHT    0.002965\n",
       "SWM    0.015667\n",
       "Name: Eigenvector, dtype: float64"
      ]
     },
     "execution_count": 35,
     "metadata": {},
     "output_type": "execute_result"
    }
   ],
   "source": [
    "airport_df4.groupby('Equipment')['Eigenvector'].mean()"
   ]
  },
  {
   "cell_type": "code",
   "execution_count": 21,
   "metadata": {
    "collapsed": true
   },
   "outputs": [],
   "source": [
    "equip_groups = airport_df4.groupby('Equipment').groups"
   ]
  },
  {
   "cell_type": "code",
   "execution_count": 30,
   "metadata": {},
   "outputs": [],
   "source": [
    "eigenvector=airport_df4['Eigenvector']"
   ]
  },
  {
   "cell_type": "code",
   "execution_count": 31,
   "metadata": {},
   "outputs": [],
   "source": [
    "BEH=eigenvector[equip_groups['BEH']]\n",
    "DHT=eigenvector[equip_groups['DHT']]\n",
    "DH8=eigenvector[equip_groups['DH8']]\n",
    "DH1=eigenvector[equip_groups['DH1']]\n",
    "AT4=eigenvector[equip_groups['AT4']]\n",
    "DH4=eigenvector[equip_groups['DH4']]\n",
    "SWM=eigenvector[equip_groups['SWM']]\n",
    "Seven38=eigenvector[equip_groups['738']]\n",
    "Seven3W=eigenvector[equip_groups['73W']]"
   ]
  },
  {
   "cell_type": "code",
   "execution_count": 32,
   "metadata": {},
   "outputs": [
    {
     "data": {
      "text/plain": [
       "F_onewayResult(statistic=26.201802268517, pvalue=5.5968829003561464e-22)"
      ]
     },
     "execution_count": 32,
     "metadata": {},
     "output_type": "execute_result"
    }
   ],
   "source": [
    "# Source: http://hamelg.blogspot.com/2015/11/python-for-data-analysis-part-16_23.html\n",
    "\n",
    "stats.f_oneway(DHT,DH8,DH1,AT4,DH4,SWM,Seven38,Seven3W)"
   ]
  },
  {
   "cell_type": "code",
   "execution_count": 47,
   "metadata": {},
   "outputs": [
    {
     "name": "stdout",
     "output_type": "stream",
     "text": [
      "BEH DHT\n",
      "Ttest_indResult(statistic=3.0173832154929396, pvalue=0.0037375940076780708)\n",
      "BEH DH8\n",
      "Ttest_indResult(statistic=2.419940045794978, pvalue=0.018677334653184465)\n",
      "BEH DH1\n",
      "Ttest_indResult(statistic=-0.76678068397081567, pvalue=0.44667927312333511)\n",
      "BEH AT4\n",
      "Ttest_indResult(statistic=1.3002854850303189, pvalue=0.19946505299522996)\n",
      "BEH DH4\n",
      "Ttest_indResult(statistic=-7.4918037668578306, pvalue=2.1884363820007873e-09)\n",
      "BEH SWM\n",
      "Ttest_indResult(statistic=-0.58419864271868527, pvalue=0.56207009658020202)\n",
      "BEH 738\n",
      "Ttest_indResult(statistic=-6.9848911797809858, pvalue=1.5276358947676799e-08)\n",
      "BEH 73W\n",
      "Ttest_indResult(statistic=-6.7439718761222203, pvalue=3.381450091583895e-08)\n",
      "DHT DH8\n",
      "Ttest_indResult(statistic=-0.91091437180971158, pvalue=0.36654392913885825)\n",
      "DHT DH1\n",
      "Ttest_indResult(statistic=-4.0711526350738305, pvalue=0.00018225474556513054)\n",
      "DHT AT4\n",
      "Ttest_indResult(statistic=-2.1192645919402113, pvalue=0.03974752987498531)\n",
      "DHT DH4\n",
      "Ttest_indResult(statistic=-8.3937491227136682, pvalue=3.4940138782363801e-10)\n",
      "DHT SWM\n",
      "Ttest_indResult(statistic=-4.013849970558506, pvalue=0.00027101508108790819)\n",
      "DHT 738\n",
      "Ttest_indResult(statistic=-7.5509433004656783, pvalue=6.3015019221548482e-09)\n",
      "DHT 73W\n",
      "Ttest_indResult(statistic=-7.0536308539707528, pvalue=2.7922369508967737e-08)\n",
      "DH8 DH1\n",
      "Ttest_indResult(statistic=-3.4207436356016134, pvalue=0.0013586900667243169)\n",
      "DH8 AT4\n",
      "Ttest_indResult(statistic=-1.2880824936150688, pvalue=0.20476882798816295)\n",
      "DH8 DH4\n",
      "Ttest_indResult(statistic=-7.9220027394217132, pvalue=2.1087297170469541e-09)\n",
      "DH8 SWM\n",
      "Ttest_indResult(statistic=-3.3410666253441788, pvalue=0.0019542683087189093)\n",
      "DH8 738\n",
      "Ttest_indResult(statistic=-7.1423620592383683, pvalue=2.9515743308427359e-08)\n",
      "DH8 73W\n",
      "Ttest_indResult(statistic=-6.6851456866412713, pvalue=1.125895615419588e-07)\n",
      "DH1 AT4\n",
      "Ttest_indResult(statistic=2.1313406951628053, pvalue=0.039958716297181673)\n",
      "DH1 DH4\n",
      "Ttest_indResult(statistic=-5.7117851366683015, pvalue=3.1281062942999724e-06)\n",
      "DH1 SWM\n",
      "Ttest_indResult(statistic=0.066546949419685461, pvalue=0.94738390082238333)\n",
      "DH1 738\n",
      "Ttest_indResult(statistic=-5.2949258975985396, pvalue=1.238873377844571e-05)\n",
      "DH1 73W\n",
      "Ttest_indResult(statistic=-5.0809180293091147, pvalue=2.2229121557656221e-05)\n",
      "AT4 DH4\n",
      "Ttest_indResult(statistic=-6.3259087884315974, pvalue=7.6488514225184637e-07)\n",
      "AT4 SWM\n",
      "Ttest_indResult(statistic=-2.0548829312188501, pvalue=0.049327904246553728)\n",
      "AT4 738\n",
      "Ttest_indResult(statistic=-5.7201839512670745, pvalue=5.0821301023687153e-06)\n",
      "AT4 73W\n",
      "Ttest_indResult(statistic=-5.3711759085472792, pvalue=1.2651370203547059e-05)\n",
      "DH4 SWM\n",
      "Ttest_indResult(statistic=4.5373797430429459, pvalue=0.00016235619507789519)\n",
      "DH4 738\n",
      "Ttest_indResult(statistic=-0.42259957881029064, pvalue=0.67709620664357328)\n",
      "DH4 73W\n",
      "Ttest_indResult(statistic=-0.76675754506621396, pvalue=0.45218223906885113)\n",
      "SWM 738\n",
      "Ttest_indResult(statistic=-4.1657647195308636, pvalue=0.000477447645100322)\n",
      "SWM 73W\n",
      "Ttest_indResult(statistic=-3.9669794763102435, pvalue=0.00075998696563506099)\n",
      "738 73W\n",
      "Ttest_indResult(statistic=-0.33535380435162987, pvalue=0.7412350544827343)\n"
     ]
    }
   ],
   "source": [
    "# Given significance of test, assess all pairs of equipment to assess where the significant differences exist\n",
    "\n",
    "# Source: http://hamelg.blogspot.com/2015/11/python-for-data-analysis-part-16_23.html\n",
    "\n",
    "equip_pairs = []\n",
    "\n",
    "for equip1 in range(8):\n",
    "    for equip2  in range(equip1+1,9):\n",
    "        equip_pairs.append((equipment_rev[equip1], equipment_rev[equip2]))\n",
    "\n",
    "# Conduct t-test on each pair\n",
    "for equip1, equip2 in equip_pairs: \n",
    "    print(equip1, equip2)\n",
    "    print(stats.ttest_ind(eigenvector[equip_groups[equip1]], \n",
    "                          eigenvector[equip_groups[equip2]])) "
   ]
  },
  {
   "cell_type": "code",
   "execution_count": null,
   "metadata": {
    "collapsed": true
   },
   "outputs": [],
   "source": [
    "#There are clearly significant differences between the centrality of airports' highest volume plane type, though it does not extend to all pairs of plane types."
   ]
  }
 ],
 "metadata": {
  "kernelspec": {
   "display_name": "Python 3",
   "language": "python",
   "name": "python3"
  },
  "language_info": {
   "codemirror_mode": {
    "name": "ipython",
    "version": 3
   },
   "file_extension": ".py",
   "mimetype": "text/x-python",
   "name": "python",
   "nbconvert_exporter": "python",
   "pygments_lexer": "ipython3",
   "version": "3.6.1"
  }
 },
 "nbformat": 4,
 "nbformat_minor": 2
}
