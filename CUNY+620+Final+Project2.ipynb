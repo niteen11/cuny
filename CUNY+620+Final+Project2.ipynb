{
 "cells": [
  {
   "cell_type": "code",
   "execution_count": 273,
   "metadata": {
    "collapsed": true
   },
   "outputs": [],
   "source": [
    "import pandas as pd\n",
    "import matplotlib.pyplot as plt\n",
    "import nltk\n",
    "from nltk.sentiment.vader import SentimentIntensityAnalyzer \n",
    "from datetime import datetime\n",
    "from dateutil.parser import parse\n",
    "import textblob\n",
    "from textblob import TextBlob"
   ]
  },
  {
   "cell_type": "code",
   "execution_count": 227,
   "metadata": {
    "collapsed": true
   },
   "outputs": [],
   "source": [
    "sid = SentimentIntensityAnalyzer()"
   ]
  },
  {
   "cell_type": "code",
   "execution_count": 230,
   "metadata": {
    "collapsed": true
   },
   "outputs": [],
   "source": [
    "# Importing Tweet Text\n",
    "wc_df = pd.read_csv(\"https://raw.githubusercontent.com/solaojp/DATA-620/master/Fifareload.csv\", header=None)"
   ]
  },
  {
   "cell_type": "code",
   "execution_count": 231,
   "metadata": {},
   "outputs": [],
   "source": [
    "# Removing Duplicates\n",
    "wc_df = wc_df.drop_duplicates()"
   ]
  },
  {
   "cell_type": "code",
   "execution_count": 232,
   "metadata": {},
   "outputs": [
    {
     "data": {
      "text/html": [
       "<div>\n",
       "<style>\n",
       "    .dataframe thead tr:only-child th {\n",
       "        text-align: right;\n",
       "    }\n",
       "\n",
       "    .dataframe thead th {\n",
       "        text-align: left;\n",
       "    }\n",
       "\n",
       "    .dataframe tbody tr th {\n",
       "        vertical-align: top;\n",
       "    }\n",
       "</style>\n",
       "<table border=\"1\" class=\"dataframe\">\n",
       "  <thead>\n",
       "    <tr style=\"text-align: right;\">\n",
       "      <th></th>\n",
       "      <th>0</th>\n",
       "      <th>1</th>\n",
       "      <th>2</th>\n",
       "    </tr>\n",
       "  </thead>\n",
       "  <tbody>\n",
       "    <tr>\n",
       "      <th>0</th>\n",
       "      <td>7/13/18 18:42</td>\n",
       "      <td>b'Any word on who won the Sham Fight this year...</td>\n",
       "      <td>NaN</td>\n",
       "    </tr>\n",
       "    <tr>\n",
       "      <th>1</th>\n",
       "      <td>7/13/18 18:42</td>\n",
       "      <td>b\"I'M REALLY SORRY! I WANTED TO KEEP THE TOGET...</td>\n",
       "      <td>NaN</td>\n",
       "    </tr>\n",
       "    <tr>\n",
       "      <th>2</th>\n",
       "      <td>7/13/18 18:39</td>\n",
       "      <td>b'RT @16AirAssltBde: #ItsComingHome \\nStill to...</td>\n",
       "      <td>NaN</td>\n",
       "    </tr>\n",
       "    <tr>\n",
       "      <th>3</th>\n",
       "      <td>7/13/18 18:39</td>\n",
       "      <td>b'RT @kkdhaliwal_: Sikh family wedding. I bloo...</td>\n",
       "      <td>NaN</td>\n",
       "    </tr>\n",
       "    <tr>\n",
       "      <th>4</th>\n",
       "      <td>7/13/18 18:39</td>\n",
       "      <td>b'@GaryLineker @sidlowe Can\\xe2\\x80\\x99t wait ...</td>\n",
       "      <td>NaN</td>\n",
       "    </tr>\n",
       "  </tbody>\n",
       "</table>\n",
       "</div>"
      ],
      "text/plain": [
       "               0                                                  1    2\n",
       "0  7/13/18 18:42  b'Any word on who won the Sham Fight this year...  NaN\n",
       "1  7/13/18 18:42  b\"I'M REALLY SORRY! I WANTED TO KEEP THE TOGET...  NaN\n",
       "2  7/13/18 18:39  b'RT @16AirAssltBde: #ItsComingHome \\nStill to...  NaN\n",
       "3  7/13/18 18:39  b'RT @kkdhaliwal_: Sikh family wedding. I bloo...  NaN\n",
       "4  7/13/18 18:39  b'@GaryLineker @sidlowe Can\\xe2\\x80\\x99t wait ...  NaN"
      ]
     },
     "execution_count": 232,
     "metadata": {},
     "output_type": "execute_result"
    }
   ],
   "source": [
    "wc_df.head()"
   ]
  },
  {
   "cell_type": "code",
   "execution_count": 233,
   "metadata": {},
   "outputs": [],
   "source": [
    "wc_df = wc_df.drop([2], axis=1)"
   ]
  },
  {
   "cell_type": "code",
   "execution_count": 235,
   "metadata": {},
   "outputs": [],
   "source": [
    "wc_df.columns = ['datetime','tweet']"
   ]
  },
  {
   "cell_type": "code",
   "execution_count": 236,
   "metadata": {
    "collapsed": true
   },
   "outputs": [],
   "source": [
    "# Assessing Sentiment Polarity for Each Tweet Using Vader\n",
    "wc_df['sentiment'] = [sid.polarity_scores(tweet)[\"compound\"] for tweet in wc_df['tweet']]"
   ]
  },
  {
   "cell_type": "code",
   "execution_count": 237,
   "metadata": {},
   "outputs": [
    {
     "data": {
      "text/html": [
       "<div>\n",
       "<style>\n",
       "    .dataframe thead tr:only-child th {\n",
       "        text-align: right;\n",
       "    }\n",
       "\n",
       "    .dataframe thead th {\n",
       "        text-align: left;\n",
       "    }\n",
       "\n",
       "    .dataframe tbody tr th {\n",
       "        vertical-align: top;\n",
       "    }\n",
       "</style>\n",
       "<table border=\"1\" class=\"dataframe\">\n",
       "  <thead>\n",
       "    <tr style=\"text-align: right;\">\n",
       "      <th></th>\n",
       "      <th>datetime</th>\n",
       "      <th>tweet</th>\n",
       "      <th>sentiment</th>\n",
       "    </tr>\n",
       "  </thead>\n",
       "  <tbody>\n",
       "    <tr>\n",
       "      <th>0</th>\n",
       "      <td>7/13/18 18:42</td>\n",
       "      <td>b'Any word on who won the Sham Fight this year...</td>\n",
       "      <td>0.2732</td>\n",
       "    </tr>\n",
       "    <tr>\n",
       "      <th>1</th>\n",
       "      <td>7/13/18 18:42</td>\n",
       "      <td>b\"I'M REALLY SORRY! I WANTED TO KEEP THE TOGET...</td>\n",
       "      <td>-0.3229</td>\n",
       "    </tr>\n",
       "    <tr>\n",
       "      <th>2</th>\n",
       "      <td>7/13/18 18:39</td>\n",
       "      <td>b'RT @16AirAssltBde: #ItsComingHome \\nStill to...</td>\n",
       "      <td>0.0000</td>\n",
       "    </tr>\n",
       "    <tr>\n",
       "      <th>3</th>\n",
       "      <td>7/13/18 18:39</td>\n",
       "      <td>b'RT @kkdhaliwal_: Sikh family wedding. I bloo...</td>\n",
       "      <td>0.3182</td>\n",
       "    </tr>\n",
       "    <tr>\n",
       "      <th>4</th>\n",
       "      <td>7/13/18 18:39</td>\n",
       "      <td>b'@GaryLineker @sidlowe Can\\xe2\\x80\\x99t wait ...</td>\n",
       "      <td>0.0000</td>\n",
       "    </tr>\n",
       "  </tbody>\n",
       "</table>\n",
       "</div>"
      ],
      "text/plain": [
       "        datetime                                              tweet  sentiment\n",
       "0  7/13/18 18:42  b'Any word on who won the Sham Fight this year...     0.2732\n",
       "1  7/13/18 18:42  b\"I'M REALLY SORRY! I WANTED TO KEEP THE TOGET...    -0.3229\n",
       "2  7/13/18 18:39  b'RT @16AirAssltBde: #ItsComingHome \\nStill to...     0.0000\n",
       "3  7/13/18 18:39  b'RT @kkdhaliwal_: Sikh family wedding. I bloo...     0.3182\n",
       "4  7/13/18 18:39  b'@GaryLineker @sidlowe Can\\xe2\\x80\\x99t wait ...     0.0000"
      ]
     },
     "execution_count": 237,
     "metadata": {},
     "output_type": "execute_result"
    }
   ],
   "source": [
    "wc_df.head()"
   ]
  },
  {
   "cell_type": "code",
   "execution_count": 238,
   "metadata": {},
   "outputs": [],
   "source": [
    "wc_df['datetime']=pd.to_datetime(wc_df['datetime'])"
   ]
  },
  {
   "cell_type": "code",
   "execution_count": 239,
   "metadata": {
    "collapsed": true
   },
   "outputs": [],
   "source": [
    "wc_df['date']=[datetime.date(y) for y in wc_df['datetime']]"
   ]
  },
  {
   "cell_type": "code",
   "execution_count": 240,
   "metadata": {},
   "outputs": [],
   "source": [
    "# Identifying Tweet Volume by Date\n",
    "tweet_volume = pd.value_counts(wc_df['date'].values)"
   ]
  },
  {
   "cell_type": "code",
   "execution_count": 272,
   "metadata": {},
   "outputs": [
    {
     "data": {
      "image/png": "[encoded data removed]",
      "text/plain": [
       "<matplotlib.figure.Figure at 0x1879e0e3978>"
      ]
     },
     "metadata": {},
     "output_type": "display_data"
    }
   ],
   "source": [
    "tweet_volume.plot()\n",
    "plt.xticks(rotation=90)\n",
    "plt.xlabel('Date')\n",
    "plt.ylabel('Volume of Tweets')\n",
    "plt.title(\"Tweet Volume by Date\")\n",
    "plt.show()"
   ]
  },
  {
   "cell_type": "code",
   "execution_count": 243,
   "metadata": {
    "collapsed": true
   },
   "outputs": [],
   "source": [
    "# Calculating Mean Polarity by Date\n",
    "wc_summary = wc_df['sentiment'].groupby(wc_df['date']).mean()"
   ]
  },
  {
   "cell_type": "code",
   "execution_count": 245,
   "metadata": {
    "collapsed": true
   },
   "outputs": [],
   "source": [
    "wc_summary = pd.DataFrame(wc_summary)"
   ]
  },
  {
   "cell_type": "code",
   "execution_count": 274,
   "metadata": {},
   "outputs": [
    {
     "data": {
      "text/html": [
       "<div>\n",
       "<style>\n",
       "    .dataframe thead tr:only-child th {\n",
       "        text-align: right;\n",
       "    }\n",
       "\n",
       "    .dataframe thead th {\n",
       "        text-align: left;\n",
       "    }\n",
       "\n",
       "    .dataframe tbody tr th {\n",
       "        vertical-align: top;\n",
       "    }\n",
       "</style>\n",
       "<table border=\"1\" class=\"dataframe\">\n",
       "  <thead>\n",
       "    <tr style=\"text-align: right;\">\n",
       "      <th></th>\n",
       "      <th>sentiment</th>\n",
       "      <th>date</th>\n",
       "    </tr>\n",
       "    <tr>\n",
       "      <th>date</th>\n",
       "      <th></th>\n",
       "      <th></th>\n",
       "    </tr>\n",
       "  </thead>\n",
       "  <tbody>\n",
       "    <tr>\n",
       "      <th>2018-07-11</th>\n",
       "      <td>0.270825</td>\n",
       "      <td>2018-07-11</td>\n",
       "    </tr>\n",
       "    <tr>\n",
       "      <th>2018-07-12</th>\n",
       "      <td>0.356083</td>\n",
       "      <td>2018-07-12</td>\n",
       "    </tr>\n",
       "    <tr>\n",
       "      <th>2018-07-13</th>\n",
       "      <td>0.295836</td>\n",
       "      <td>2018-07-13</td>\n",
       "    </tr>\n",
       "    <tr>\n",
       "      <th>2018-07-14</th>\n",
       "      <td>0.464895</td>\n",
       "      <td>2018-07-14</td>\n",
       "    </tr>\n",
       "    <tr>\n",
       "      <th>2018-07-15</th>\n",
       "      <td>0.300899</td>\n",
       "      <td>2018-07-15</td>\n",
       "    </tr>\n",
       "    <tr>\n",
       "      <th>2018-07-16</th>\n",
       "      <td>0.405941</td>\n",
       "      <td>2018-07-16</td>\n",
       "    </tr>\n",
       "    <tr>\n",
       "      <th>2018-07-17</th>\n",
       "      <td>0.291378</td>\n",
       "      <td>2018-07-17</td>\n",
       "    </tr>\n",
       "    <tr>\n",
       "      <th>2018-07-18</th>\n",
       "      <td>0.280472</td>\n",
       "      <td>2018-07-18</td>\n",
       "    </tr>\n",
       "  </tbody>\n",
       "</table>\n",
       "</div>"
      ],
      "text/plain": [
       "            sentiment        date\n",
       "date                             \n",
       "2018-07-11   0.270825  2018-07-11\n",
       "2018-07-12   0.356083  2018-07-12\n",
       "2018-07-13   0.295836  2018-07-13\n",
       "2018-07-14   0.464895  2018-07-14\n",
       "2018-07-15   0.300899  2018-07-15\n",
       "2018-07-16   0.405941  2018-07-16\n",
       "2018-07-17   0.291378  2018-07-17\n",
       "2018-07-18   0.280472  2018-07-18"
      ]
     },
     "execution_count": 274,
     "metadata": {},
     "output_type": "execute_result"
    }
   ],
   "source": [
    "wc_summary"
   ]
  },
  {
   "cell_type": "code",
   "execution_count": 246,
   "metadata": {},
   "outputs": [],
   "source": [
    "wc_summary['date'] = wc_summary.index"
   ]
  },
  {
   "cell_type": "code",
   "execution_count": 247,
   "metadata": {
    "collapsed": true
   },
   "outputs": [],
   "source": [
    "# Calculating Median Polarity by Date\n",
    "wc_summary2 = wc_df['sentiment'].groupby(wc_df['date']).median()"
   ]
  },
  {
   "cell_type": "code",
   "execution_count": 249,
   "metadata": {},
   "outputs": [],
   "source": [
    "wc_summary2 = pd.DataFrame(wc_summary2)"
   ]
  },
  {
   "cell_type": "code",
   "execution_count": null,
   "metadata": {
    "collapsed": true
   },
   "outputs": [],
   "source": [
    "wc_summary2"
   ]
  },
  {
   "cell_type": "code",
   "execution_count": 250,
   "metadata": {
    "collapsed": true
   },
   "outputs": [],
   "source": [
    "wc_summary2['date'] = wc_summary2.index"
   ]
  },
  {
   "cell_type": "code",
   "execution_count": 256,
   "metadata": {
    "collapsed": true
   },
   "outputs": [],
   "source": [
    "# Assessing Sentiment Polarity for Each Tweet Using TextBlob\n",
    "wc_df['sentiment2'] = [TextBlob(tweet).sentiment[0] for tweet in wc_df['tweet']]"
   ]
  },
  {
   "cell_type": "code",
   "execution_count": 257,
   "metadata": {},
   "outputs": [
    {
     "data": {
      "text/html": [
       "<div>\n",
       "<style>\n",
       "    .dataframe thead tr:only-child th {\n",
       "        text-align: right;\n",
       "    }\n",
       "\n",
       "    .dataframe thead th {\n",
       "        text-align: left;\n",
       "    }\n",
       "\n",
       "    .dataframe tbody tr th {\n",
       "        vertical-align: top;\n",
       "    }\n",
       "</style>\n",
       "<table border=\"1\" class=\"dataframe\">\n",
       "  <thead>\n",
       "    <tr style=\"text-align: right;\">\n",
       "      <th></th>\n",
       "      <th>datetime</th>\n",
       "      <th>tweet</th>\n",
       "      <th>sentiment</th>\n",
       "      <th>date</th>\n",
       "      <th>sentiment2</th>\n",
       "    </tr>\n",
       "  </thead>\n",
       "  <tbody>\n",
       "    <tr>\n",
       "      <th>0</th>\n",
       "      <td>2018-07-13 18:42:00</td>\n",
       "      <td>b'Any word on who won the Sham Fight this year...</td>\n",
       "      <td>0.2732</td>\n",
       "      <td>2018-07-13</td>\n",
       "      <td>-0.2000</td>\n",
       "    </tr>\n",
       "    <tr>\n",
       "      <th>1</th>\n",
       "      <td>2018-07-13 18:42:00</td>\n",
       "      <td>b\"I'M REALLY SORRY! I WANTED TO KEEP THE TOGET...</td>\n",
       "      <td>-0.3229</td>\n",
       "      <td>2018-07-13</td>\n",
       "      <td>-0.7125</td>\n",
       "    </tr>\n",
       "    <tr>\n",
       "      <th>2</th>\n",
       "      <td>2018-07-13 18:39:00</td>\n",
       "      <td>b'RT @16AirAssltBde: #ItsComingHome \\nStill to...</td>\n",
       "      <td>0.0000</td>\n",
       "      <td>2018-07-13</td>\n",
       "      <td>0.0000</td>\n",
       "    </tr>\n",
       "    <tr>\n",
       "      <th>3</th>\n",
       "      <td>2018-07-13 18:39:00</td>\n",
       "      <td>b'RT @kkdhaliwal_: Sikh family wedding. I bloo...</td>\n",
       "      <td>0.3182</td>\n",
       "      <td>2018-07-13</td>\n",
       "      <td>-0.1500</td>\n",
       "    </tr>\n",
       "    <tr>\n",
       "      <th>4</th>\n",
       "      <td>2018-07-13 18:39:00</td>\n",
       "      <td>b'@GaryLineker @sidlowe Can\\xe2\\x80\\x99t wait ...</td>\n",
       "      <td>0.0000</td>\n",
       "      <td>2018-07-13</td>\n",
       "      <td>0.0000</td>\n",
       "    </tr>\n",
       "  </tbody>\n",
       "</table>\n",
       "</div>"
      ],
      "text/plain": [
       "             datetime                                              tweet  \\\n",
       "0 2018-07-13 18:42:00  b'Any word on who won the Sham Fight this year...   \n",
       "1 2018-07-13 18:42:00  b\"I'M REALLY SORRY! I WANTED TO KEEP THE TOGET...   \n",
       "2 2018-07-13 18:39:00  b'RT @16AirAssltBde: #ItsComingHome \\nStill to...   \n",
       "3 2018-07-13 18:39:00  b'RT @kkdhaliwal_: Sikh family wedding. I bloo...   \n",
       "4 2018-07-13 18:39:00  b'@GaryLineker @sidlowe Can\\xe2\\x80\\x99t wait ...   \n",
       "\n",
       "   sentiment        date  sentiment2  \n",
       "0     0.2732  2018-07-13     -0.2000  \n",
       "1    -0.3229  2018-07-13     -0.7125  \n",
       "2     0.0000  2018-07-13      0.0000  \n",
       "3     0.3182  2018-07-13     -0.1500  \n",
       "4     0.0000  2018-07-13      0.0000  "
      ]
     },
     "execution_count": 257,
     "metadata": {},
     "output_type": "execute_result"
    }
   ],
   "source": [
    "wc_df.head()"
   ]
  },
  {
   "cell_type": "code",
   "execution_count": 258,
   "metadata": {},
   "outputs": [],
   "source": [
    "# Calculating Mean Polarity by Date\n",
    "wc_summary_tb = wc_df['sentiment2'].groupby(wc_df['date']).mean()"
   ]
  },
  {
   "cell_type": "code",
   "execution_count": 259,
   "metadata": {
    "collapsed": true
   },
   "outputs": [],
   "source": [
    "wc_summary_tb = pd.DataFrame(wc_summary_tb)"
   ]
  },
  {
   "cell_type": "code",
   "execution_count": 260,
   "metadata": {
    "collapsed": true
   },
   "outputs": [],
   "source": [
    "wc_summary_tb['date'] = wc_summary_tb.index"
   ]
  },
  {
   "cell_type": "code",
   "execution_count": 261,
   "metadata": {},
   "outputs": [
    {
     "data": {
      "text/html": [
       "<div>\n",
       "<style>\n",
       "    .dataframe thead tr:only-child th {\n",
       "        text-align: right;\n",
       "    }\n",
       "\n",
       "    .dataframe thead th {\n",
       "        text-align: left;\n",
       "    }\n",
       "\n",
       "    .dataframe tbody tr th {\n",
       "        vertical-align: top;\n",
       "    }\n",
       "</style>\n",
       "<table border=\"1\" class=\"dataframe\">\n",
       "  <thead>\n",
       "    <tr style=\"text-align: right;\">\n",
       "      <th></th>\n",
       "      <th>sentiment2</th>\n",
       "      <th>date</th>\n",
       "    </tr>\n",
       "    <tr>\n",
       "      <th>date</th>\n",
       "      <th></th>\n",
       "      <th></th>\n",
       "    </tr>\n",
       "  </thead>\n",
       "  <tbody>\n",
       "    <tr>\n",
       "      <th>2018-07-11</th>\n",
       "      <td>0.165400</td>\n",
       "      <td>2018-07-11</td>\n",
       "    </tr>\n",
       "    <tr>\n",
       "      <th>2018-07-12</th>\n",
       "      <td>0.226797</td>\n",
       "      <td>2018-07-12</td>\n",
       "    </tr>\n",
       "    <tr>\n",
       "      <th>2018-07-13</th>\n",
       "      <td>0.240344</td>\n",
       "      <td>2018-07-13</td>\n",
       "    </tr>\n",
       "    <tr>\n",
       "      <th>2018-07-14</th>\n",
       "      <td>0.461612</td>\n",
       "      <td>2018-07-14</td>\n",
       "    </tr>\n",
       "    <tr>\n",
       "      <th>2018-07-15</th>\n",
       "      <td>0.169344</td>\n",
       "      <td>2018-07-15</td>\n",
       "    </tr>\n",
       "    <tr>\n",
       "      <th>2018-07-16</th>\n",
       "      <td>0.182509</td>\n",
       "      <td>2018-07-16</td>\n",
       "    </tr>\n",
       "    <tr>\n",
       "      <th>2018-07-17</th>\n",
       "      <td>0.226709</td>\n",
       "      <td>2018-07-17</td>\n",
       "    </tr>\n",
       "    <tr>\n",
       "      <th>2018-07-18</th>\n",
       "      <td>0.214042</td>\n",
       "      <td>2018-07-18</td>\n",
       "    </tr>\n",
       "  </tbody>\n",
       "</table>\n",
       "</div>"
      ],
      "text/plain": [
       "            sentiment2        date\n",
       "date                              \n",
       "2018-07-11    0.165400  2018-07-11\n",
       "2018-07-12    0.226797  2018-07-12\n",
       "2018-07-13    0.240344  2018-07-13\n",
       "2018-07-14    0.461612  2018-07-14\n",
       "2018-07-15    0.169344  2018-07-15\n",
       "2018-07-16    0.182509  2018-07-16\n",
       "2018-07-17    0.226709  2018-07-17\n",
       "2018-07-18    0.214042  2018-07-18"
      ]
     },
     "execution_count": 261,
     "metadata": {},
     "output_type": "execute_result"
    }
   ],
   "source": [
    "wc_summary_tb"
   ]
  },
  {
   "cell_type": "code",
   "execution_count": 262,
   "metadata": {
    "collapsed": true
   },
   "outputs": [],
   "source": [
    "# Calculating Median Polarity by Date\n",
    "wc_summary_tb2 = wc_df['sentiment2'].groupby(wc_df['date']).median()"
   ]
  },
  {
   "cell_type": "code",
   "execution_count": 263,
   "metadata": {},
   "outputs": [],
   "source": [
    "wc_summary_tb2 = pd.DataFrame(wc_summary_tb2)"
   ]
  },
  {
   "cell_type": "code",
   "execution_count": 264,
   "metadata": {
    "collapsed": true
   },
   "outputs": [],
   "source": [
    "wc_summary_tb2['date'] = wc_summary_tb2.index"
   ]
  },
  {
   "cell_type": "code",
   "execution_count": 265,
   "metadata": {},
   "outputs": [
    {
     "data": {
      "text/html": [
       "<div>\n",
       "<style>\n",
       "    .dataframe thead tr:only-child th {\n",
       "        text-align: right;\n",
       "    }\n",
       "\n",
       "    .dataframe thead th {\n",
       "        text-align: left;\n",
       "    }\n",
       "\n",
       "    .dataframe tbody tr th {\n",
       "        vertical-align: top;\n",
       "    }\n",
       "</style>\n",
       "<table border=\"1\" class=\"dataframe\">\n",
       "  <thead>\n",
       "    <tr style=\"text-align: right;\">\n",
       "      <th></th>\n",
       "      <th>sentiment2</th>\n",
       "      <th>date</th>\n",
       "    </tr>\n",
       "    <tr>\n",
       "      <th>date</th>\n",
       "      <th></th>\n",
       "      <th></th>\n",
       "    </tr>\n",
       "  </thead>\n",
       "  <tbody>\n",
       "    <tr>\n",
       "      <th>2018-07-11</th>\n",
       "      <td>0.000</td>\n",
       "      <td>2018-07-11</td>\n",
       "    </tr>\n",
       "    <tr>\n",
       "      <th>2018-07-12</th>\n",
       "      <td>0.125</td>\n",
       "      <td>2018-07-12</td>\n",
       "    </tr>\n",
       "    <tr>\n",
       "      <th>2018-07-13</th>\n",
       "      <td>0.000</td>\n",
       "      <td>2018-07-13</td>\n",
       "    </tr>\n",
       "    <tr>\n",
       "      <th>2018-07-14</th>\n",
       "      <td>0.500</td>\n",
       "      <td>2018-07-14</td>\n",
       "    </tr>\n",
       "    <tr>\n",
       "      <th>2018-07-15</th>\n",
       "      <td>0.000</td>\n",
       "      <td>2018-07-15</td>\n",
       "    </tr>\n",
       "    <tr>\n",
       "      <th>2018-07-16</th>\n",
       "      <td>0.025</td>\n",
       "      <td>2018-07-16</td>\n",
       "    </tr>\n",
       "    <tr>\n",
       "      <th>2018-07-17</th>\n",
       "      <td>0.000</td>\n",
       "      <td>2018-07-17</td>\n",
       "    </tr>\n",
       "    <tr>\n",
       "      <th>2018-07-18</th>\n",
       "      <td>0.000</td>\n",
       "      <td>2018-07-18</td>\n",
       "    </tr>\n",
       "  </tbody>\n",
       "</table>\n",
       "</div>"
      ],
      "text/plain": [
       "            sentiment2        date\n",
       "date                              \n",
       "2018-07-11       0.000  2018-07-11\n",
       "2018-07-12       0.125  2018-07-12\n",
       "2018-07-13       0.000  2018-07-13\n",
       "2018-07-14       0.500  2018-07-14\n",
       "2018-07-15       0.000  2018-07-15\n",
       "2018-07-16       0.025  2018-07-16\n",
       "2018-07-17       0.000  2018-07-17\n",
       "2018-07-18       0.000  2018-07-18"
      ]
     },
     "execution_count": 265,
     "metadata": {},
     "output_type": "execute_result"
    }
   ],
   "source": [
    "wc_summary_tb2"
   ]
  },
  {
   "cell_type": "code",
   "execution_count": 266,
   "metadata": {},
   "outputs": [],
   "source": [
    "wc_summary3 = pd.merge(wc_summary, wc_summary_tb, on='date')"
   ]
  },
  {
   "cell_type": "code",
   "execution_count": 267,
   "metadata": {},
   "outputs": [],
   "source": [
    "wc_summary4 = pd.merge(wc_summary2, wc_summary_tb2, on='date')"
   ]
  },
  {
   "cell_type": "code",
   "execution_count": 271,
   "metadata": {},
   "outputs": [
    {
     "data": {
      "image/png": "[encoded data removed]",
      "text/plain": [
       "<matplotlib.figure.Figure at 0x1879e0dbda0>"
      ]
     },
     "metadata": {},
     "output_type": "display_data"
    },
    {
     "data": {
      "image/png": "[encoded data removed]",
      "text/plain": [
       "<matplotlib.figure.Figure at 0x1879e043240>"
      ]
     },
     "metadata": {},
     "output_type": "display_data"
    }
   ],
   "source": [
    "plt.subplot(2, 1, 1)\n",
    "plt.plot(wc_summary3['date'],wc_summary3['sentiment'])\n",
    "plt.plot(wc_summary3['date'],wc_summary3['sentiment2'])\n",
    "plt.xticks(rotation=90)\n",
    "plt.legend(['Vader Sentiment', 'TextBlob Sentiment'], loc='upper left')\n",
    "plt.xlabel('Date')\n",
    "plt.ylabel('Mean Sentiment')\n",
    "plt.title(\"Mean Sentiment Analysis by Date\")\n",
    "plt.show()\n",
    "\n",
    "plt.subplot(2, 1, 2)\n",
    "plt.plot(wc_summary4['date'],wc_summary4['sentiment'])\n",
    "plt.plot(wc_summary4['date'],wc_summary4['sentiment2'])\n",
    "plt.xticks(rotation=90)\n",
    "plt.legend(['Vader Sentiment', 'TextBlob Sentiment'], loc='upper left')\n",
    "plt.xlabel('Date')\n",
    "plt.ylabel('Median Sentiment')\n",
    "plt.title(\"Median Sentiment Analysis by Date\")\n",
    "plt.show()"
   ]
  }
 ],
 "metadata": {
  "kernelspec": {
   "display_name": "Python 3",
   "language": "python",
   "name": "python3"
  },
  "language_info": {
   "codemirror_mode": {
    "name": "ipython",
    "version": 3
   },
   "file_extension": ".py",
   "mimetype": "text/x-python",
   "name": "python",
   "nbconvert_exporter": "python",
   "pygments_lexer": "ipython3",
   "version": "3.6.1"
  }
 },
 "nbformat": 4,
 "nbformat_minor": 2
}
