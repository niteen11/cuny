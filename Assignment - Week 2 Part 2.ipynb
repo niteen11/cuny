{
 "cells": [
  {
   "cell_type": "markdown",
   "metadata": {},
   "source": [
    "## DATA 620 - Assignment - Week 2 Part 2 \n",
    "\n",
    "#### Authors: Brian Weinfield, Alex Low, Jagruti Solao, Niteen Kumar\n",
    "\n",
    "#### Date: 6/17/18\n",
    "\n",
    "### Data Set Overview  \n",
    "\n",
    "Open Flights is a publicly available data source that provides valuable information on more than 3,000 airports, close to 6,000 airlines and more than 60,000 routes. A summary of the files is included below:\n",
    "\n",
    "* **Airports:** This data set includes data on airports, including name, code, city, country, specific geographical coordinates, timezone et al.\n",
    "* **Airlines:** This data set includes data on airlines, including names, alius, codes, country of incorporation et al.\n",
    "* **Routes:** This data set includes data on routes, including airline ID, source airport, destination airport, no of stops, equipment (plane types) et al.\n",
    "\n",
    "### Project Plan\n",
    "\n",
    "For project 1, we plan to perform some network analysis on the network of airline routes. Since this is a huge data set, we have decided to limit our analysis to airports in Canada and the United Kingdom, and routes within and between these countries. The nodes will be the airports, and the edges the routes.\n",
    "\n",
    "We are considering using one or more of the following categorical variables for each node as part of our analysis:\n",
    "\n",
    "* Does the airport support international flights (Y/N);\n",
    "* The airport's highest volume airline;\n",
    "* The airport's highest volume plane type; and\n",
    "* The airport's highest volume airline-plane type combination.\n",
    "\n",
    "Our project plan is as follows:\n",
    "\n",
    "1. Extract subsets of each of the above files filtering for aiports and routes involving Canada and the United Kingdom.\n",
    "2. Prepare network for analysis using route data set.\n",
    "3. Prepare categorical variables to include in the analysis and add them to the airport data set.\n",
    "4. Join airport data set to route data set to allow categorization and analysis of nodes and their centrality measures.\n",
    "5. Prepare summary table that provides descriptive measures for each category (e.g. frequency across categories.)\n",
    "6. Compute centrality measures (degree, eigenvector, closeness, betweenness) - for each node, allowing for compilation and analysis for each category of node.\n",
    "7. Prepare various graphics including: map showing nodes and their centrality; and charts showing distribution of centrality measures across all nodes and within categories.\n",
    "8. Perform hypothesis tests to analyze specific outcomes of interest (see Outcomes section.)\n",
    "\n",
    "### Outcomes\n",
    "\n",
    "Potential hypotheses that we might test using a node's centrality and category include:\n",
    "\n",
    "* Do international airports have a higher centrality than non-international airports both when considering the overall network and also when limiting a network to flights within a country?\n",
    "* Do airports whose highest traffic involve Boeing airplanes have a higher centrality than airports whose highest traffic involve Airbus or other companies?\n",
    "\n"
   ]
  }
 ],
 "metadata": {
  "kernelspec": {
   "display_name": "Python 3",
   "language": "python",
   "name": "python3"
  }
 },
 "nbformat": 4,
 "nbformat_minor": 2
}
