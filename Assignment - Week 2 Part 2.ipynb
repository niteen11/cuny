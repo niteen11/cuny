{
 "cells": [
  {
   "cell_type": "markdown",
   "metadata": {},
   "source": [
    "### Data Set Overview  \n",
    "\n",
    "Open Flights is a publicly available data source that provides valuable information on more than 3,000 airports, close to 6,000 airlines and more than 60,000 routes. A summary of the files is included below:\n",
    "\n",
    "* **Airports:** This data set includes data on airports, including name, code, city, country, specific geographical coordinates, timezone et al.\n",
    "* **Airlines:** This data set includes data on airlines, including names, alius, codes, country of incorporation et al.\n",
    "* **Routes:** This data set includes data on routes, including airline ID, source airport, destination airport, no of stops, equipment (plane types) et al.\n",
    "\n",
    "### Project Plan\n",
    "\n",
    "For project 1, we plan to perform some network analysis on the network of airline routes. Since this is a huge data set, we have decided to limit our analysis to airports in Canada and Great Britain, and routes within and between these countries. The nodes will be the airports, and the edges the routes.\n",
    "\n",
    "We are considering using one ore more of the following categorical variables for each node as part of our analysis: highest volume airline, highest volume plane type, and highest volume airline-plane type combination.  Our project plan is as follows:\n",
    "\n",
    "1. Extract subsets of each of the above files filtering for aiports and routes involving Canada and Great Britain.\n",
    "2. Prepare network for analysis using route data set.\n",
    "3. Prepare categorical variables to include in the analysis and add them to the airport data set.\n",
    "4. Join airport data set to route data set to allow categorization of nodes.\n",
    "5. Prepare summary table that provides measures for each category.\n",
    "6. Compute centrality measures - for each node, each category of node, and each centrality measure (degree centrality, eigenvector centrality.)\n",
    "7. Prepare various graphics including: map showing nodes and their centrality; and charts showing distribution of centrality across nodes and categories.\n",
    "\n",
    "### Outcomes\n",
    "\n",
    "Potential outcomes that could be predict using a node's centrality and category could include volume of daily flights, number of customers served, and potential disruption to flights and customers if one of those airports had to shut down for some reason (such as average distance added to flights.)\n"
   ]
  }
 ],
 "metadata": {
  "kernelspec": {
   "display_name": "Python 3",
   "language": "python",
   "name": "python3"
  }
 },
 "nbformat": 4,
 "nbformat_minor": 2
}
